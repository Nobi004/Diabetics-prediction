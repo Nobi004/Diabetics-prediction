{
  "cells": [
    {
      "cell_type": "code",
      "execution_count": null,
      "metadata": {
        "colab": {
          "base_uri": "https://localhost:8080/"
        },
        "id": "m4lV6pUoGMZD",
        "outputId": "ddba326c-8917-4007-c8fe-4c5da45beab0"
      },
      "outputs": [
        {
          "name": "stdout",
          "output_type": "stream",
          "text": [
            "(768, 9)\n"
          ]
        }
      ],
      "source": [
        "from pandas import read_csv\n",
        "file = '/content/diabetes.csv'\n",
        "data = read_csv(file)\n",
        "print(data.shape)"
      ]
    },
    {
      "cell_type": "code",
      "execution_count": null,
      "metadata": {
        "colab": {
          "base_uri": "https://localhost:8080/"
        },
        "id": "qSUscuf8IzkA",
        "outputId": "daf1f4ae-f65f-4203-fc15-d8dac2ce41e6"
      },
      "outputs": [
        {
          "name": "stdout",
          "output_type": "stream",
          "text": [
            "          preg     plas           pres           skin     test  mass  \\\n",
            "0  Pregnancies  Glucose  BloodPressure  SkinThickness  Insulin   BMI   \n",
            "1            6      148             72             35        0  33.6   \n",
            "2            1       85             66             29        0  26.6   \n",
            "3            8      183             64              0        0  23.3   \n",
            "4            1       89             66             23       94  28.1   \n",
            "5            0      137             40             35      168  43.1   \n",
            "6            5      116             74              0        0  25.6   \n",
            "7            3       78             50             32       88    31   \n",
            "8           10      115              0              0        0  35.3   \n",
            "9            2      197             70             45      543  30.5   \n",
            "\n",
            "                       pedi  age    class  \n",
            "0  DiabetesPedigreeFunction  Age  Outcome  \n",
            "1                     0.627   50        1  \n",
            "2                     0.351   31        0  \n",
            "3                     0.672   32        1  \n",
            "4                     0.167   21        0  \n",
            "5                     2.288   33        1  \n",
            "6                     0.201   30        0  \n",
            "7                     0.248   26        1  \n",
            "8                     0.134   29        0  \n",
            "9                     0.158   53        1  \n"
          ]
        }
      ],
      "source": [
        "names = ['preg','plas','pres','skin','test','mass','pedi','age','class']\n",
        "data = read_csv(file,names=names)\n",
        "first_n = data.head(10)\n",
        "print(first_n)"
      ]
    },
    {
      "cell_type": "code",
      "execution_count": null,
      "metadata": {
        "id": "9twFrhMEAhsW"
      },
      "outputs": [],
      "source": [
        "data.dtypes"
      ]
    },
    {
      "cell_type": "code",
      "execution_count": null,
      "metadata": {
        "colab": {
          "base_uri": "https://localhost:8080/"
        },
        "id": "obe63UA1BJc0",
        "outputId": "cda5004b-cf60-4891-96eb-009aa07d18b7"
      },
      "outputs": [
        {
          "name": "stdout",
          "output_type": "stream",
          "text": [
            "       preg plas pres skin test mass   pedi  age class\n",
            "count   769  769  769  769  769  769    769  769   769\n",
            "unique   18  137   48   52  187  249    518   53     3\n",
            "top       1  100   70    0    0   32  0.254   22     0\n",
            "freq    135   17   57  227  374   13      6   72   500\n"
          ]
        }
      ],
      "source": [
        "discription = data.describe()\n",
        "print(discription)"
      ]
    },
    {
      "cell_type": "code",
      "execution_count": null,
      "metadata": {
        "colab": {
          "base_uri": "https://localhost:8080/"
        },
        "id": "-TEnDl3HEMny",
        "outputId": "97b86717-91ca-4d3f-8dd8-8f89f5b47ab8"
      },
      "outputs": [
        {
          "name": "stdout",
          "output_type": "stream",
          "text": [
            "class\n",
            "0          500\n",
            "1          268\n",
            "Outcome      1\n",
            "dtype: int64\n"
          ]
        }
      ],
      "source": [
        "class_count = data.groupby('class').size()\n",
        "print(class_count)"
      ]
    },
    {
      "cell_type": "code",
      "execution_count": null,
      "metadata": {
        "colab": {
          "base_uri": "https://localhost:8080/"
        },
        "id": "p5psJ1XZktyE",
        "outputId": "4057cda1-31b1-45d9-dafc-04242944daa9"
      },
      "outputs": [
        {
          "name": "stdout",
          "output_type": "stream",
          "text": [
            "preg     object\n",
            "plas     object\n",
            "pres     object\n",
            "skin     object\n",
            "test     object\n",
            "mass     object\n",
            "pedi     object\n",
            "age      object\n",
            "class    object\n",
            "dtype: object\n",
            "------------------\n",
            "preg     object\n",
            "plas     object\n",
            "pres     object\n",
            "skin     object\n",
            "test     object\n",
            "mass     object\n",
            "pedi     object\n",
            "age      object\n",
            "class    object\n",
            "dtype: object\n"
          ]
        }
      ],
      "source": [
        "print(data.dtypes)\n",
        "print('------------------')\n",
        "print(first_n.dtypes)"
      ]
    },
    {
      "cell_type": "code",
      "execution_count": null,
      "metadata": {
        "colab": {
          "base_uri": "https://localhost:8080/"
        },
        "id": "qNiWylroli_H",
        "outputId": "03c93549-84ea-40d9-8d32-90e17384d0fc"
      },
      "outputs": [
        {
          "name": "stdout",
          "output_type": "stream",
          "text": [
            "                          Pregnancies   Glucose  BloodPressure  SkinThickness   Insulin       BMI  \\\n",
            "Pregnancies                  1.000000  0.129459       0.141282      -0.081672 -0.073535  0.017683   \n",
            "Glucose                      0.129459  1.000000       0.152590       0.057328  0.331357  0.221071   \n",
            "BloodPressure                0.141282  0.152590       1.000000       0.207371  0.088933  0.281805   \n",
            "SkinThickness               -0.081672  0.057328       0.207371       1.000000  0.436783  0.392573   \n",
            "Insulin                     -0.073535  0.331357       0.088933       0.436783  1.000000  0.197859   \n",
            "BMI                          0.017683  0.221071       0.281805       0.392573  0.197859  1.000000   \n",
            "DiabetesPedigreeFunction    -0.033523  0.137337       0.041265       0.183928  0.185071  0.140647   \n",
            "Age                          0.544341  0.263514       0.239528      -0.113970 -0.042163  0.036242   \n",
            "Outcome                      0.221898  0.466581       0.065068       0.074752  0.130548  0.292695   \n",
            "\n",
            "                          DiabetesPedigreeFunction       Age   Outcome  \n",
            "Pregnancies                              -0.033523  0.544341  0.221898  \n",
            "Glucose                                   0.137337  0.263514  0.466581  \n",
            "BloodPressure                             0.041265  0.239528  0.065068  \n",
            "SkinThickness                             0.183928 -0.113970  0.074752  \n",
            "Insulin                                   0.185071 -0.042163  0.130548  \n",
            "BMI                                       0.140647  0.036242  0.292695  \n",
            "DiabetesPedigreeFunction                  1.000000  0.033561  0.173844  \n",
            "Age                                       0.033561  1.000000  0.238356  \n",
            "Outcome                                   0.173844  0.238356  1.000000  \n"
          ]
        }
      ],
      "source": [
        "from pandas import read_csv,set_option\n",
        "file = '/content/diabetes.csv'\n",
        "data = read_csv(file)\n",
        "set_option('display.width',100)\n",
        "corr= data.corr(method = 'pearson' )\n",
        "print(corr)"
      ]
    },
    {
      "cell_type": "code",
      "execution_count": null,
      "metadata": {
        "colab": {
          "base_uri": "https://localhost:8080/",
          "height": 452
        },
        "id": "zoqTSJr4oR6A",
        "outputId": "8d9362c0-c051-4e71-a587-a5d21aa49272"
      },
      "outputs": [
        {
          "data": {
            "image/png": "[encoded data removed]",
            "text/plain": [
              "<Figure size 640x480 with 9 Axes>"
            ]
          },
          "metadata": {},
          "output_type": "display_data"
        }
      ],
      "source": [
        "from matplotlib import pyplot as plt\n",
        "data.hist()\n",
        "plt.show()"
      ]
    },
    {
      "cell_type": "code",
      "execution_count": null,
      "metadata": {
        "colab": {
          "base_uri": "https://localhost:8080/",
          "height": 438
        },
        "id": "CbpFCwhupiKY",
        "outputId": "efd73e06-6e7a-4915-c9c2-c05a7e8917e7"
      },
      "outputs": [
        {
          "data": {
            "image/png": "[encoded data removed]",
            "text/plain": [
              "<Figure size 640x480 with 2 Axes>"
            ]
          },
          "metadata": {},
          "output_type": "display_data"
        }
      ],
      "source": [
        "import numpy as np\n",
        "figure = plt.figure()\n",
        "ax = figure.add_subplot(1,1,1)\n",
        "ticks = np.arange(0,9,1)\n",
        "corr_ax = ax.matshow(corr,vmin =-1,vmax = 1)\n",
        "figure.colorbar(corr_ax)\n",
        "ax.set_xticks(ticks)\n",
        "ax.set_yticks(ticks)\n",
        "ax.set_xticklabels(names)\n",
        "ax.set_yticklabels(names)\n",
        "\n",
        "plt.show()"
      ]
    },
    {
      "cell_type": "markdown",
      "metadata": {
        "id": "Y6pn1bYTurQF"
      },
      "source": []
    },
    {
      "cell_type": "code",
      "execution_count": null,
      "metadata": {
        "colab": {
          "base_uri": "https://localhost:8080/",
          "height": 827
        },
        "id": "bUTA5-qoRiQD",
        "outputId": "5a9c6e48-d16e-456b-9707-fecd2d55dfe6"
      },
      "outputs": [
        {
          "ename": "ValueError",
          "evalue": "ignored",
          "output_type": "error",
          "traceback": [
            "\u001b[0;31m---------------------------------------------------------------------------\u001b[0m",
            "\u001b[0;31mValueError\u001b[0m                                Traceback (most recent call last)",
            "\u001b[0;32m<ipython-input-11-cda27976456d>\u001b[0m in \u001b[0;36m<cell line: 16>\u001b[0;34m()\u001b[0m\n\u001b[1;32m     14\u001b[0m \u001b[0max\u001b[0m\u001b[0;34m.\u001b[0m\u001b[0mset_xticks\u001b[0m\u001b[0;34m(\u001b[0m\u001b[0mticks\u001b[0m\u001b[0;34m)\u001b[0m\u001b[0;34m\u001b[0m\u001b[0;34m\u001b[0m\u001b[0m\n\u001b[1;32m     15\u001b[0m \u001b[0max\u001b[0m\u001b[0;34m.\u001b[0m\u001b[0mset_yticks\u001b[0m\u001b[0;34m(\u001b[0m\u001b[0mticks\u001b[0m\u001b[0;34m)\u001b[0m\u001b[0;34m\u001b[0m\u001b[0;34m\u001b[0m\u001b[0m\n\u001b[0;32m---> 16\u001b[0;31m \u001b[0max\u001b[0m\u001b[0;34m.\u001b[0m\u001b[0mset_xticklabels\u001b[0m\u001b[0;34m(\u001b[0m\u001b[0mnames\u001b[0m\u001b[0;34m)\u001b[0m\u001b[0;34m\u001b[0m\u001b[0;34m\u001b[0m\u001b[0m\n\u001b[0m\u001b[1;32m     17\u001b[0m \u001b[0max\u001b[0m\u001b[0;34m.\u001b[0m\u001b[0mset_yticklabels\u001b[0m\u001b[0;34m(\u001b[0m\u001b[0mnames\u001b[0m\u001b[0;34m)\u001b[0m\u001b[0;34m\u001b[0m\u001b[0;34m\u001b[0m\u001b[0m\n\u001b[1;32m     18\u001b[0m \u001b[0;34m\u001b[0m\u001b[0m\n",
            "\u001b[0;32m/usr/local/lib/python3.10/dist-packages/matplotlib/axes/_base.py\u001b[0m in \u001b[0;36mwrapper\u001b[0;34m(self, *args, **kwargs)\u001b[0m\n\u001b[1;32m     72\u001b[0m \u001b[0;34m\u001b[0m\u001b[0m\n\u001b[1;32m     73\u001b[0m         \u001b[0;32mdef\u001b[0m \u001b[0mwrapper\u001b[0m\u001b[0;34m(\u001b[0m\u001b[0mself\u001b[0m\u001b[0;34m,\u001b[0m \u001b[0;34m*\u001b[0m\u001b[0margs\u001b[0m\u001b[0;34m,\u001b[0m \u001b[0;34m**\u001b[0m\u001b[0mkwargs\u001b[0m\u001b[0;34m)\u001b[0m\u001b[0;34m:\u001b[0m\u001b[0;34m\u001b[0m\u001b[0;34m\u001b[0m\u001b[0m\n\u001b[0;32m---> 74\u001b[0;31m             \u001b[0;32mreturn\u001b[0m \u001b[0mget_method\u001b[0m\u001b[0;34m(\u001b[0m\u001b[0mself\u001b[0m\u001b[0;34m)\u001b[0m\u001b[0;34m(\u001b[0m\u001b[0;34m*\u001b[0m\u001b[0margs\u001b[0m\u001b[0;34m,\u001b[0m \u001b[0;34m**\u001b[0m\u001b[0mkwargs\u001b[0m\u001b[0;34m)\u001b[0m\u001b[0;34m\u001b[0m\u001b[0;34m\u001b[0m\u001b[0m\n\u001b[0m\u001b[1;32m     75\u001b[0m \u001b[0;34m\u001b[0m\u001b[0m\n\u001b[1;32m     76\u001b[0m         \u001b[0mwrapper\u001b[0m\u001b[0;34m.\u001b[0m\u001b[0m__module__\u001b[0m \u001b[0;34m=\u001b[0m \u001b[0mowner\u001b[0m\u001b[0;34m.\u001b[0m\u001b[0m__module__\u001b[0m\u001b[0;34m\u001b[0m\u001b[0;34m\u001b[0m\u001b[0m\n",
            "\u001b[0;32m/usr/local/lib/python3.10/dist-packages/matplotlib/_api/deprecation.py\u001b[0m in \u001b[0;36mwrapper\u001b[0;34m(*args, **kwargs)\u001b[0m\n\u001b[1;32m    295\u001b[0m                 f\"for the old name will be dropped %(removal)s.\")\n\u001b[1;32m    296\u001b[0m             \u001b[0mkwargs\u001b[0m\u001b[0;34m[\u001b[0m\u001b[0mnew\u001b[0m\u001b[0;34m]\u001b[0m \u001b[0;34m=\u001b[0m \u001b[0mkwargs\u001b[0m\u001b[0;34m.\u001b[0m\u001b[0mpop\u001b[0m\u001b[0;34m(\u001b[0m\u001b[0mold\u001b[0m\u001b[0;34m)\u001b[0m\u001b[0;34m\u001b[0m\u001b[0;34m\u001b[0m\u001b[0m\n\u001b[0;32m--> 297\u001b[0;31m         \u001b[0;32mreturn\u001b[0m \u001b[0mfunc\u001b[0m\u001b[0;34m(\u001b[0m\u001b[0;34m*\u001b[0m\u001b[0margs\u001b[0m\u001b[0;34m,\u001b[0m \u001b[0;34m**\u001b[0m\u001b[0mkwargs\u001b[0m\u001b[0;34m)\u001b[0m\u001b[0;34m\u001b[0m\u001b[0;34m\u001b[0m\u001b[0m\n\u001b[0m\u001b[1;32m    298\u001b[0m \u001b[0;34m\u001b[0m\u001b[0m\n\u001b[1;32m    299\u001b[0m     \u001b[0;31m# wrapper() must keep the same documented signature as func(): if we\u001b[0m\u001b[0;34m\u001b[0m\u001b[0;34m\u001b[0m\u001b[0m\n",
            "\u001b[0;32m/usr/local/lib/python3.10/dist-packages/matplotlib/axis.py\u001b[0m in \u001b[0;36mset_ticklabels\u001b[0;34m(self, labels, minor, fontdict, **kwargs)\u001b[0m\n\u001b[1;32m   1967\u001b[0m             \u001b[0;31m# remove all tick labels, so only error for > 0 labels\u001b[0m\u001b[0;34m\u001b[0m\u001b[0;34m\u001b[0m\u001b[0m\n\u001b[1;32m   1968\u001b[0m             \u001b[0;32mif\u001b[0m \u001b[0mlen\u001b[0m\u001b[0;34m(\u001b[0m\u001b[0mlocator\u001b[0m\u001b[0;34m.\u001b[0m\u001b[0mlocs\u001b[0m\u001b[0;34m)\u001b[0m \u001b[0;34m!=\u001b[0m \u001b[0mlen\u001b[0m\u001b[0;34m(\u001b[0m\u001b[0mlabels\u001b[0m\u001b[0;34m)\u001b[0m \u001b[0;32mand\u001b[0m \u001b[0mlen\u001b[0m\u001b[0;34m(\u001b[0m\u001b[0mlabels\u001b[0m\u001b[0;34m)\u001b[0m \u001b[0;34m!=\u001b[0m \u001b[0;36m0\u001b[0m\u001b[0;34m:\u001b[0m\u001b[0;34m\u001b[0m\u001b[0;34m\u001b[0m\u001b[0m\n\u001b[0;32m-> 1969\u001b[0;31m                 raise ValueError(\n\u001b[0m\u001b[1;32m   1970\u001b[0m                     \u001b[0;34m\"The number of FixedLocator locations\"\u001b[0m\u001b[0;34m\u001b[0m\u001b[0;34m\u001b[0m\u001b[0m\n\u001b[1;32m   1971\u001b[0m                     \u001b[0;34mf\" ({len(locator.locs)}), usually from a call to\"\u001b[0m\u001b[0;34m\u001b[0m\u001b[0;34m\u001b[0m\u001b[0m\n",
            "\u001b[0;31mValueError\u001b[0m: The number of FixedLocator locations (9), usually from a call to set_ticks, does not match the number of labels (8)."
          ]
        },
        {
          "data": {
            "image/png": "[encoded data removed]",
            "text/plain": [
              "<Figure size 640x480 with 2 Axes>"
            ]
          },
          "metadata": {},
          "output_type": "display_data"
        }
      ],
      "source": [
        "from pandas import read_csv , set_option\n",
        "import numpy as np\n",
        "from matplotlib import pyplot as plt\n",
        "\n",
        "data = read_csv(file)\n",
        "names = ['long','lat','housing_md_age','total bedrooms','pop','households','med_income','med_house_value']\n",
        "figure = plt.figure()\n",
        "ax = figure.add_subplot(1,1,1)\n",
        "corr= data.corr(method = 'pearson' )\n",
        "corr_ax = ax.matshow(corr,vmin =-1,vmax = 1)\n",
        "\n",
        "figure.colorbar(corr_ax)\n",
        "ticks = np.arange(0,9,1)\n",
        "ax.set_xticks(ticks)\n",
        "ax.set_yticks(ticks)\n",
        "ax.set_xticklabels(names)\n",
        "ax.set_yticklabels(names)\n",
        "\n",
        "plt.show()\n",
        "file = '/content/sample_data/california_housing_train.csv'\n",
        "first_n = data.head(10)\n",
        "print(data.describe())"
      ]
    },
    {
      "cell_type": "markdown",
      "metadata": {
        "id": "T6Pn82BlZucd"
      },
      "source": [
        "Prepairing data for ml tasks"
      ]
    },
    {
      "cell_type": "code",
      "execution_count": null,
      "metadata": {
        "colab": {
          "base_uri": "https://localhost:8080/"
        },
        "id": "rCGFxSXBZ2hC",
        "outputId": "07d4f4b0-84da-4b2a-8a2c-f1d672ba25f8"
      },
      "outputs": [
        {
          "name": "stdout",
          "output_type": "stream",
          "text": [
            "[[  6.    148.     72.    ...   0.     33.6     0.627]\n",
            " [  1.     85.     66.    ...   0.     26.6     0.351]\n",
            " [  8.    183.     64.    ...   0.     23.3     0.672]\n",
            " ...\n",
            " [  5.    121.     72.    ... 112.     26.2     0.245]\n",
            " [  1.    126.     60.    ...   0.     30.1     0.349]\n",
            " [  1.     93.     70.    ...   0.     30.4     0.315]]\n",
            "[[  6.    148.     72.    ...   0.     33.6     0.627]\n",
            " [  1.     85.     66.    ...   0.     26.6     0.351]\n",
            " [  8.    183.     64.    ...   0.     23.3     0.672]\n",
            " ...\n",
            " [  5.    121.     72.    ... 112.     26.2     0.245]\n",
            " [  1.    126.     60.    ...   0.     30.1     0.349]\n",
            " [  1.     93.     70.    ...   0.     30.4     0.315]]\n",
            "[[0.35294118 0.74371859 0.59016393 ... 0.         0.50074516 0.23441503]\n",
            " [0.05882353 0.42713568 0.54098361 ... 0.         0.39642325 0.11656704]\n",
            " [0.47058824 0.91959799 0.52459016 ... 0.         0.34724292 0.25362938]\n",
            " ...\n",
            " [0.29411765 0.6080402  0.59016393 ... 0.13238771 0.390462   0.07130658]\n",
            " [0.05882353 0.63316583 0.49180328 ... 0.         0.4485842  0.11571307]\n",
            " [0.05882353 0.46733668 0.57377049 ... 0.         0.45305514 0.10119556]]\n"
          ]
        }
      ],
      "source": [
        "from sklearn.preprocessing import MinMaxScaler\n",
        "array = data.values\n",
        "x = array[:,0:7]\n",
        "y = array[:,8]\n",
        "print(x)\n",
        "scaler = MinMaxScaler(feature_range=(0,1))\n",
        "scaled_x = scaler.fit_transform(x)\n",
        "print(x)\n",
        "print(scaled_x)"
      ]
    },
    {
      "cell_type": "markdown",
      "metadata": {
        "id": "mb0vj-9TdWxr"
      },
      "source": [
        "standard scaling"
      ]
    },
    {
      "cell_type": "code",
      "execution_count": null,
      "metadata": {
        "colab": {
          "base_uri": "https://localhost:8080/"
        },
        "id": "6rf5gIB8dbAi",
        "outputId": "20028dc9-ea13-498e-ed78-fdad6228357b"
      },
      "outputs": [
        {
          "name": "stdout",
          "output_type": "stream",
          "text": [
            "[[  6.    148.     72.    ...   0.     33.6     0.627]\n",
            " [  1.     85.     66.    ...   0.     26.6     0.351]\n",
            " [  8.    183.     64.    ...   0.     23.3     0.672]\n",
            " ...\n",
            " [  5.    121.     72.    ... 112.     26.2     0.245]\n",
            " [  1.    126.     60.    ...   0.     30.1     0.349]\n",
            " [  1.     93.     70.    ...   0.     30.4     0.315]]\n",
            "[[ 0.63994726  0.84832379  0.14964075 ... -0.69289057  0.20401277\n",
            "   0.46849198]\n",
            " [-0.84488505 -1.12339636 -0.16054575 ... -0.69289057 -0.68442195\n",
            "  -0.36506078]\n",
            " [ 1.23388019  1.94372388 -0.26394125 ... -0.69289057 -1.10325546\n",
            "   0.60439732]\n",
            " ...\n",
            " [ 0.3429808   0.00330087  0.14964075 ...  0.27959377 -0.73518964\n",
            "  -0.68519336]\n",
            " [-0.84488505  0.1597866  -0.47073225 ... -0.69289057 -0.24020459\n",
            "  -0.37110101]\n",
            " [-0.84488505 -0.8730192   0.04624525 ... -0.69289057 -0.20212881\n",
            "  -0.47378505]]\n"
          ]
        }
      ],
      "source": [
        "from sklearn.preprocessing import StandardScaler\n",
        "print(x)\n",
        "scaler = StandardScaler()\n",
        "scaled_x = scaler.fit_transform(x)\n",
        "print(scaled_x)"
      ]
    },
    {
      "cell_type": "code",
      "execution_count": null,
      "metadata": {
        "colab": {
          "base_uri": "https://localhost:8080/"
        },
        "id": "ZQnkw_9jKyfo",
        "outputId": "7a431051-f274-43b0-e212-458b354e08f8"
      },
      "outputs": [
        {
          "name": "stdout",
          "output_type": "stream",
          "text": [
            "8.774964387392123\n",
            "0.9999999999999999\n"
          ]
        }
      ],
      "source": [
        "from sklearn.preprocessing import Normalizer\n",
        "import numpy as np\n",
        "x = [[4,5,6]]\n",
        "x_ = Normalizer().fit_transform(x)\n",
        "print(np.linalg.norm(x))\n",
        "print(np.linalg.norm(x_))"
      ]
    },
    {
      "cell_type": "markdown",
      "metadata": {
        "id": "1w_EHfxkOaMX"
      },
      "source": [
        "feature selection\n",
        "1 univariate selection\n",
        "2 recursive feature elimination\n",
        "3 pca"
      ]
    },
    {
      "cell_type": "code",
      "execution_count": null,
      "metadata": {
        "colab": {
          "base_uri": "https://localhost:8080/"
        },
        "id": "yP6Hu2G_OvLa",
        "outputId": "f4f53d1d-1d2e-459a-fd54-f8d4b00aeed5"
      },
      "outputs": [
        {
          "name": "stdout",
          "output_type": "stream",
          "text": [
            "3\n",
            "[False False False False  True  True  True]\n",
            "[3 4 5 2 1 1 1]\n"
          ]
        }
      ],
      "source": [
        "from sklearn.feature_selection import RFE\n",
        "from sklearn.feature_selection import chi2\n",
        "from sklearn.preprocessing import MinMaxScaler\n",
        "from pandas import read_csv\n",
        "from sklearn.linear_model import LinearRegression\n",
        "file = '/content/sample_data/california_housing_train.csv'\n",
        "data = read_csv(file)\n",
        "array = data.values\n",
        "x = array[:,0:7]\n",
        "y = array[:,8]\n",
        "\n",
        "scaler = MinMaxScaler(feature_range=(0,1))\n",
        "x = scaler.fit_transform(x)\n",
        "model = LinearRegression()\n",
        "selector = RFE(model,n_features_to_select=3)\n",
        "X_best = selector.fit(x,y)\n",
        "\n",
        "print(X_best.n_features_)\n",
        "print(X_best.support_)\n",
        "print(X_best.ranking_)"
      ]
    },
    {
      "cell_type": "markdown",
      "metadata": {
        "id": "oXrsPzK0usoJ"
      },
      "source": [
        "principle components analysis\n"
      ]
    },
    {
      "cell_type": "code",
      "execution_count": null,
      "metadata": {
        "colab": {
          "base_uri": "https://localhost:8080/"
        },
        "id": "y61_jV4cuyh7",
        "outputId": "afaa39e7-62ca-4f15-cdca-d592082ff77c"
      },
      "outputs": [
        {
          "name": "stdout",
          "output_type": "stream",
          "text": [
            "[[-114.31   34.19   15.  ]\n",
            " [-114.47   34.4    19.  ]\n",
            " [-114.56   33.69   17.  ]\n",
            " ...\n",
            " [-124.3    41.84   17.  ]\n",
            " [-124.3    41.8    19.  ]\n",
            " [-124.35   40.54   52.  ]]\n",
            "after transform\n",
            "[[ 4.87779841e-05 -4.83304736e-05 -1.81139133e-03  8.78741373e-01\n",
            "   1.61685695e-01  4.24259261e-01  1.47214566e-01]\n",
            " [ 4.26597961e-04 -5.92833200e-04  1.66615501e-03 -4.53646297e-01\n",
            "   5.45358897e-02  8.83742856e-01  1.01124329e-01]\n",
            " [ 5.96134004e-05  1.77485347e-04 -3.76946504e-03  1.47948778e-01\n",
            "  -7.45066555e-01  1.92998052e-01 -6.21067223e-01]]\n"
          ]
        }
      ],
      "source": [
        "from sklearn.decomposition import PCA\n",
        "from pandas import read_csv\n",
        "from sklearn.linear_model import LinearRegression\n",
        "file = '/content/sample_data/california_housing_train.csv'\n",
        "data = read_csv(file)\n",
        "array = data.values\n",
        "x = array[:,0:7]\n",
        "y = array[:,8]\n",
        "pca = PCA(n_components=3)\n",
        "fit = pca.fit(x)\n",
        "print(x[:,0:3 :])\n",
        "print('after transform')\n",
        "print(fit.components_)"
      ]
    },
    {
      "cell_type": "code",
      "source": [],
      "metadata": {
        "id": "njcP_tR58UBy"
      },
      "execution_count": null,
      "outputs": []
    },
    {
      "cell_type": "code",
      "source": [],
      "metadata": {
        "id": "mo640r948URh"
      },
      "execution_count": null,
      "outputs": []
    },
    {
      "cell_type": "code",
      "execution_count": null,
      "metadata": {
        "colab": {
          "base_uri": "https://localhost:8080/"
        },
        "id": "nxsoW_YCyEGY",
        "outputId": "9354b0d7-917c-47ad-d12e-183c42023f89"
      },
      "outputs": [
        {
          "name": "stdout",
          "output_type": "stream",
          "text": [
            "(17000, 9)\n",
            "(12750, 7)\n",
            "(4250, 7)\n",
            "-6.035157620075071\n"
          ]
        }
      ],
      "source": [
        "from sklearn.model_selection import train_test_split\n",
        "from sklearn.svm import SVR\n",
        "from sklearn.preprocessing import MinMaxScaler\n",
        "from sklearn.preprocessing import StandardScaler\n",
        "from sklearn.preprocessing import Normalizer\n",
        "data = ile = '/content/sample_data/california_housing_train.csv'\n",
        "data = read_csv(file)\n",
        "array = data.values\n",
        "x = array[:,0:7]\n",
        "y = array[:,8]\n",
        "\n",
        "x_train,x_test,y_train,y_test = train_test_split(x,y,test_size=0.25)\n",
        "print(array.shape)\n",
        "print(x_train.shape)\n",
        "print(x_test.shape)\n",
        "model = SVR()\n",
        "model.fit(x_train,y_train)\n",
        "result = model.score(x_test,y_test)\n",
        "print(result*100)\n"
      ]
    },
    {
      "cell_type": "code",
      "execution_count": null,
      "metadata": {
        "colab": {
          "base_uri": "https://localhost:8080/"
        },
        "id": "eGHuF4rqZLpz",
        "outputId": "89aa76cc-d684-4a28-de06-1302ce0ad825"
      },
      "outputs": [
        {
          "name": "stdout",
          "output_type": "stream",
          "text": [
            "                          Pregnancies   Glucose  BloodPressure  SkinThickness   Insulin       BMI  \\\n",
            "Pregnancies                  1.000000  0.129459       0.141282      -0.081672 -0.073535  0.017683   \n",
            "Glucose                      0.129459  1.000000       0.152590       0.057328  0.331357  0.221071   \n",
            "BloodPressure                0.141282  0.152590       1.000000       0.207371  0.088933  0.281805   \n",
            "SkinThickness               -0.081672  0.057328       0.207371       1.000000  0.436783  0.392573   \n",
            "Insulin                     -0.073535  0.331357       0.088933       0.436783  1.000000  0.197859   \n",
            "BMI                          0.017683  0.221071       0.281805       0.392573  0.197859  1.000000   \n",
            "DiabetesPedigreeFunction    -0.033523  0.137337       0.041265       0.183928  0.185071  0.140647   \n",
            "Age                          0.544341  0.263514       0.239528      -0.113970 -0.042163  0.036242   \n",
            "Outcome                      0.221898  0.466581       0.065068       0.074752  0.130548  0.292695   \n",
            "\n",
            "                          DiabetesPedigreeFunction       Age   Outcome  \n",
            "Pregnancies                              -0.033523  0.544341  0.221898  \n",
            "Glucose                                   0.137337  0.263514  0.466581  \n",
            "BloodPressure                             0.041265  0.239528  0.065068  \n",
            "SkinThickness                             0.183928 -0.113970  0.074752  \n",
            "Insulin                                   0.185071 -0.042163  0.130548  \n",
            "BMI                                       0.140647  0.036242  0.292695  \n",
            "DiabetesPedigreeFunction                  1.000000  0.033561  0.173844  \n",
            "Age                                       0.033561  1.000000  0.238356  \n",
            "Outcome                                   0.173844  0.238356  1.000000  \n"
          ]
        }
      ],
      "source": [
        "from pandas import read_csv\n",
        "data = read_csv('/content/diabetes.csv')\n",
        "array = data.values\n",
        "x = array[:,0:7]\n",
        "y = array[:,8]\n",
        "corr = data.corr('pearson')\n",
        "print(corr)"
      ]
    },
    {
      "cell_type": "markdown",
      "metadata": {
        "id": "rUXxeAoqdQmq"
      },
      "source": [
        "data preprocessing"
      ]
    },
    {
      "cell_type": "code",
      "execution_count": null,
      "metadata": {
        "colab": {
          "base_uri": "https://localhost:8080/"
        },
        "id": "r-srAd7ydeAm",
        "outputId": "b8dc1854-4271-4839-f330-498ed521dc42"
      },
      "outputs": [
        {
          "name": "stdout",
          "output_type": "stream",
          "text": [
            "[[  6.    148.     72.    ...   0.     33.6     0.627]\n",
            " [  1.     85.     66.    ...   0.     26.6     0.351]\n",
            " [  8.    183.     64.    ...   0.     23.3     0.672]\n",
            " ...\n",
            " [  5.    121.     72.    ... 112.     26.2     0.245]\n",
            " [  1.    126.     60.    ...   0.     30.1     0.349]\n",
            " [  1.     93.     70.    ...   0.     30.4     0.315]]\n",
            "[[0.35294118 0.74371859 0.59016393 ... 0.         0.50074516 0.23441503]\n",
            " [0.05882353 0.42713568 0.54098361 ... 0.         0.39642325 0.11656704]\n",
            " [0.47058824 0.91959799 0.52459016 ... 0.         0.34724292 0.25362938]\n",
            " ...\n",
            " [0.29411765 0.6080402  0.59016393 ... 0.13238771 0.390462   0.07130658]\n",
            " [0.05882353 0.63316583 0.49180328 ... 0.         0.4485842  0.11571307]\n",
            " [0.05882353 0.46733668 0.57377049 ... 0.         0.45305514 0.10119556]]\n"
          ]
        }
      ],
      "source": [
        "from sklearn.preprocessing import MinMaxScaler,StandardScaler,Normalizer\n",
        "print(x)\n",
        "x = MinMaxScaler(feature_range=(0,1)).fit_transform(x)\n",
        "print(x)"
      ]
    },
    {
      "cell_type": "code",
      "execution_count": null,
      "metadata": {
        "colab": {
          "base_uri": "https://localhost:8080/"
        },
        "id": "7Z-Up6fVRQVs",
        "outputId": "7d353411-30ca-44ce-f4b3-66a908343cc1"
      },
      "outputs": [
        {
          "name": "stdout",
          "output_type": "stream",
          "text": [
            "(768, 7)\n",
            "(768, 4)\n",
            "(768, 7)\n",
            "(768, 3)\n"
          ]
        }
      ],
      "source": [
        "\n",
        "from sklearn.feature_selection import SelectKBest ,chi2 ,RFE\n",
        "selector = RFE( estimator =model ,n_features_to_select= 4 )\n",
        "X_best = selector.fit_transform(x,y)\n",
        "print(x.shape)\n",
        "print(X_best.shape)\n",
        "from pandas import read_csv\n",
        "data = read_csv('/content/diabetes.csv')\n",
        "array = data.values\n",
        "x = array[:,0:7]\n",
        "y = array[:,8]\n",
        "selector = SelectKBest(score_func=chi2 ,  k = 3 )\n",
        "X_best = selector.fit_transform(x,y)\n",
        "print(x.shape)\n",
        "print(X_best.shape)"
      ]
    },
    {
      "cell_type": "code",
      "execution_count": null,
      "metadata": {
        "colab": {
          "base_uri": "https://localhost:8080/"
        },
        "id": "W1XNntY9bxUr",
        "outputId": "5d036d8d-df79-48dd-daea-4779c8e5cc31"
      },
      "outputs": [
        {
          "name": "stdout",
          "output_type": "stream",
          "text": [
            "[[ 0.16716614  0.07983991 -0.01252342]\n",
            " [-0.17375209 -0.15131681  0.15755351]\n",
            " [ 0.03956551  0.32475708 -0.31670428]\n",
            " ...\n",
            " [ 0.00868632  0.06675958  0.02579986]\n",
            " [-0.22835201 -0.04639902 -0.11915449]\n",
            " [-0.11804175 -0.15735808  0.16135269]]\n",
            "(768, 3)\n",
            "------------\n",
            "[[-0.09435408  0.02677536 -0.00331578]\n",
            " [ 0.10345627 -0.0650674   0.08202017]\n",
            " [-0.04913652  0.16549536 -0.16118492]\n",
            " ...\n",
            " [-0.01013822  0.03295649  0.01645336]\n",
            " [ 0.12299848 -0.00294238 -0.06505296]\n",
            " [ 0.07540241 -0.07328875  0.08403717]]\n",
            "(768, 3)\n"
          ]
        }
      ],
      "source": [
        "from sklearn.linear_model import LogisticRegression\n",
        "from sklearn.feature_selection import SelectKBest ,chi2 ,RFE\n",
        "from sklearn.decomposition import PCA,KernelPCA\n",
        "\n",
        "\n",
        "model = LogisticRegression()\n",
        "selector = RFE( estimator =model ,n_features_to_select= 4 )\n",
        "X_best = selector.fit_transform(x,y)\n",
        "\n",
        "pca = PCA(n_components=3)\n",
        "k_pca = KernelPCA(kernel ='rbf',n_components=3)\n",
        "\n",
        "x_best_lin = pca.fit_transform(x,y)\n",
        "x_best_ker = k_pca.fit_transform(x,y)\n",
        "\n",
        "\n",
        "print(x_best_lin)\n",
        "print(x_best_lin.shape)\n",
        "print('------------')\n",
        "print(x_best_ker)\n",
        "print(x_best_ker.shape)"
      ]
    },
    {
      "cell_type": "code",
      "execution_count": null,
      "metadata": {
        "colab": {
          "base_uri": "https://localhost:8080/"
        },
        "id": "h1x4IN4Sb1wC",
        "outputId": "8bd37571-441a-4b45-b25a-40843cd00dac"
      },
      "outputs": [
        {
          "name": "stdout",
          "output_type": "stream",
          "text": [
            "accuracy rate of logistic regression\n",
            "[100.         100.         100.         100.         100.\n",
            " 100.         100.         100.         100.         100.\n",
            " 100.         100.         100.          99.47916667  99.47916667\n",
            " 100.         100.          99.47916667  99.47916667 100.\n",
            "  99.47916667 100.         100.         100.         100.\n",
            " 100.          99.47916667 100.         100.          99.47916667\n",
            "  99.47916667 100.         100.         100.          99.47916667\n",
            " 100.          99.47916667  99.47916667  99.47916667 100.\n",
            "  99.47916667 100.         100.         100.         100.\n",
            " 100.         100.          99.47916667 100.          99.47916667\n",
            " 100.         100.         100.         100.         100.\n",
            " 100.         100.         100.          99.47916667  99.47916667\n",
            " 100.         100.         100.         100.         100.\n",
            " 100.         100.         100.         100.          99.47916667\n",
            "  99.47916667 100.         100.          99.47916667 100.\n",
            " 100.          99.47916667 100.         100.         100.\n",
            " 100.          99.47916667 100.         100.         100.\n",
            " 100.         100.         100.         100.          99.47916667\n",
            " 100.         100.         100.         100.         100.\n",
            " 100.         100.          99.47916667 100.         100.\n",
            " 100.          99.47916667 100.         100.         100.\n",
            " 100.         100.         100.         100.          99.47916667\n",
            " 100.         100.         100.         100.          99.47916667\n",
            "  99.47916667  99.47916667 100.         100.         100.\n",
            " 100.         100.         100.          99.47916667  99.47916667\n",
            " 100.         100.          99.47916667 100.         100.\n",
            "  99.47916667  99.47916667 100.         100.         100.\n",
            " 100.          99.47916667 100.          99.47916667  99.47916667\n",
            " 100.         100.          99.47916667 100.         100.\n",
            "  99.47916667 100.          99.47916667 100.         100.\n",
            " 100.         100.          99.47916667 100.          99.47916667\n",
            " 100.         100.         100.         100.         100.\n",
            " 100.         100.         100.         100.         100.\n",
            " 100.          99.47916667 100.         100.         100.\n",
            "  99.47916667 100.         100.         100.          99.47916667\n",
            " 100.         100.         100.         100.         100.\n",
            " 100.         100.         100.         100.          99.47916667\n",
            " 100.         100.          99.47916667 100.         100.\n",
            " 100.         100.        ]\n",
            "accurcy rate of svm\n",
            "[100.         100.         100.         100.         100.\n",
            " 100.         100.         100.         100.         100.\n",
            " 100.         100.         100.          99.47916667  99.47916667\n",
            " 100.         100.          99.47916667  99.47916667 100.\n",
            "  99.47916667 100.         100.         100.         100.\n",
            " 100.         100.         100.         100.          99.47916667\n",
            "  99.47916667 100.          99.47916667 100.          99.47916667\n",
            " 100.         100.          99.47916667  99.47916667 100.\n",
            " 100.         100.         100.         100.         100.\n",
            " 100.         100.          99.47916667 100.          99.47916667\n",
            " 100.         100.         100.         100.         100.\n",
            " 100.          99.47916667 100.         100.         100.\n",
            " 100.         100.         100.         100.         100.\n",
            " 100.         100.         100.         100.          99.47916667\n",
            " 100.         100.         100.          99.47916667 100.\n",
            " 100.          99.47916667 100.         100.         100.\n",
            " 100.          99.47916667 100.         100.         100.\n",
            " 100.         100.         100.         100.          99.47916667\n",
            " 100.         100.          99.47916667 100.         100.\n",
            " 100.         100.          99.47916667 100.          99.47916667\n",
            " 100.         100.         100.         100.         100.\n",
            " 100.         100.         100.         100.          99.47916667\n",
            " 100.          99.47916667  99.47916667 100.          99.47916667\n",
            "  99.47916667  99.47916667 100.         100.         100.\n",
            " 100.         100.         100.          99.47916667 100.\n",
            " 100.         100.         100.         100.         100.\n",
            " 100.          99.47916667 100.         100.         100.\n",
            " 100.          99.47916667 100.          99.47916667 100.\n",
            " 100.         100.         100.         100.         100.\n",
            "  99.47916667 100.          99.47916667 100.         100.\n",
            " 100.         100.          99.47916667 100.          99.47916667\n",
            " 100.         100.          99.47916667 100.         100.\n",
            " 100.         100.         100.         100.         100.\n",
            "  99.47916667  99.47916667 100.         100.         100.\n",
            "  99.47916667 100.         100.         100.         100.\n",
            " 100.         100.         100.         100.         100.\n",
            "  99.47916667 100.         100.         100.          99.47916667\n",
            " 100.         100.          99.47916667 100.         100.\n",
            " 100.          99.47916667]\n"
          ]
        },
        {
          "name": "stderr",
          "output_type": "stream",
          "text": [
            "/usr/local/lib/python3.10/dist-packages/sklearn/linear_model/_logistic.py:458: ConvergenceWarning: lbfgs failed to converge (status=1):\n",
            "STOP: TOTAL NO. of ITERATIONS REACHED LIMIT.\n",
            "\n",
            "Increase the number of iterations (max_iter) or scale the data as shown in:\n",
            "    https://scikit-learn.org/stable/modules/preprocessing.html\n",
            "Please also refer to the documentation for alternative solver options:\n",
            "    https://scikit-learn.org/stable/modules/linear_model.html#logistic-regression\n",
            "  n_iter_i = _check_optimize_result(\n"
          ]
        }
      ],
      "source": [
        "from sklearn.linear_model import LogisticRegression\n",
        "from sklearn.svm import SVC\n",
        "from sklearn.model_selection import train_test_split\n",
        "from pandas import read_csv\n",
        "data = read_csv('/content/diabetes.csv')\n",
        "array = data.values\n",
        "x = array[:,0:7]\n",
        "y = array[:,8]\n",
        "x_train,x_test,y_train,y_test = train_test_split(x,y,test_size=0.25)\n",
        "\n",
        "model_svm = SVC()\n",
        "model_log_reg = LogisticRegression()\n",
        "model_svm.fit(x_train,y_train)\n",
        "model_log_reg.fit(x_train,y_train)\n",
        "\n",
        "mc_svm,mc_log_reg =0,0\n",
        "\n",
        "y_pred_svm = model_svm.predict(x_test)\n",
        "y_pred_log_reg = model_log_reg.predict(x_test)\n",
        "\n",
        "i = 0\n",
        "for y in y_test :\n",
        "   if y != y_pred_log_reg[i]:\n",
        "     mc_log_reg +=1\n",
        "   if y != y_pred_svm[i]:\n",
        "     mc_svm +=1\n",
        "\n",
        "\n",
        "print('accuracy rate of logistic regression')\n",
        "print(100 - (y_pred_log_reg/y_test.shape[0])*100)\n",
        "print('accurcy rate of svm')\n",
        "print(100 - (y_pred_svm/y_test.shape[0])*100)\n",
        "\n"
      ]
    },
    {
      "cell_type": "code",
      "execution_count": null,
      "metadata": {
        "colab": {
          "base_uri": "https://localhost:8080/"
        },
        "id": "PEGoRzZj8Guo",
        "outputId": "c3d54d3a-736b-41b5-b0be-cf25b78ecb64"
      },
      "outputs": [
        {
          "name": "stderr",
          "output_type": "stream",
          "text": [
            "/usr/local/lib/python3.10/dist-packages/sklearn/linear_model/_logistic.py:458: ConvergenceWarning: lbfgs failed to converge (status=1):\n",
            "STOP: TOTAL NO. of ITERATIONS REACHED LIMIT.\n",
            "\n",
            "Increase the number of iterations (max_iter) or scale the data as shown in:\n",
            "    https://scikit-learn.org/stable/modules/preprocessing.html\n",
            "Please also refer to the documentation for alternative solver options:\n",
            "    https://scikit-learn.org/stable/modules/linear_model.html#logistic-regression\n",
            "  n_iter_i = _check_optimize_result(\n",
            "/usr/local/lib/python3.10/dist-packages/sklearn/linear_model/_logistic.py:458: ConvergenceWarning: lbfgs failed to converge (status=1):\n",
            "STOP: TOTAL NO. of ITERATIONS REACHED LIMIT.\n",
            "\n",
            "Increase the number of iterations (max_iter) or scale the data as shown in:\n",
            "    https://scikit-learn.org/stable/modules/preprocessing.html\n",
            "Please also refer to the documentation for alternative solver options:\n",
            "    https://scikit-learn.org/stable/modules/linear_model.html#logistic-regression\n",
            "  n_iter_i = _check_optimize_result(\n",
            "/usr/local/lib/python3.10/dist-packages/sklearn/linear_model/_logistic.py:458: ConvergenceWarning: lbfgs failed to converge (status=1):\n",
            "STOP: TOTAL NO. of ITERATIONS REACHED LIMIT.\n",
            "\n",
            "Increase the number of iterations (max_iter) or scale the data as shown in:\n",
            "    https://scikit-learn.org/stable/modules/preprocessing.html\n",
            "Please also refer to the documentation for alternative solver options:\n",
            "    https://scikit-learn.org/stable/modules/linear_model.html#logistic-regression\n",
            "  n_iter_i = _check_optimize_result(\n",
            "/usr/local/lib/python3.10/dist-packages/sklearn/linear_model/_logistic.py:458: ConvergenceWarning: lbfgs failed to converge (status=1):\n",
            "STOP: TOTAL NO. of ITERATIONS REACHED LIMIT.\n",
            "\n",
            "Increase the number of iterations (max_iter) or scale the data as shown in:\n",
            "    https://scikit-learn.org/stable/modules/preprocessing.html\n",
            "Please also refer to the documentation for alternative solver options:\n",
            "    https://scikit-learn.org/stable/modules/linear_model.html#logistic-regression\n",
            "  n_iter_i = _check_optimize_result(\n",
            "/usr/local/lib/python3.10/dist-packages/sklearn/linear_model/_logistic.py:458: ConvergenceWarning: lbfgs failed to converge (status=1):\n",
            "STOP: TOTAL NO. of ITERATIONS REACHED LIMIT.\n",
            "\n",
            "Increase the number of iterations (max_iter) or scale the data as shown in:\n",
            "    https://scikit-learn.org/stable/modules/preprocessing.html\n",
            "Please also refer to the documentation for alternative solver options:\n",
            "    https://scikit-learn.org/stable/modules/linear_model.html#logistic-regression\n",
            "  n_iter_i = _check_optimize_result(\n",
            "/usr/local/lib/python3.10/dist-packages/sklearn/linear_model/_logistic.py:458: ConvergenceWarning: lbfgs failed to converge (status=1):\n",
            "STOP: TOTAL NO. of ITERATIONS REACHED LIMIT.\n",
            "\n",
            "Increase the number of iterations (max_iter) or scale the data as shown in:\n",
            "    https://scikit-learn.org/stable/modules/preprocessing.html\n",
            "Please also refer to the documentation for alternative solver options:\n",
            "    https://scikit-learn.org/stable/modules/linear_model.html#logistic-regression\n",
            "  n_iter_i = _check_optimize_result(\n"
          ]
        },
        {
          "name": "stdout",
          "output_type": "stream",
          "text": [
            "result logistic regression\n",
            "76.95146958304852\n",
            "result svm\n",
            "76.03896103896105\n"
          ]
        }
      ],
      "source": [
        "from sklearn.model_selection import KFold,cross_val_score\n",
        "from sklearn.linear_model import LogisticRegression\n",
        "from sklearn.svm import SVC\n",
        "from sklearn.model_selection import train_test_split\n",
        "from pandas import read_csv\n",
        "\n",
        "data = read_csv('/content/diabetes.csv')\n",
        "array = data.values\n",
        "x = array[:,0:7]\n",
        "y = array[:,8]\n",
        "\n",
        "model_svm = SVC()\n",
        "model_log_reg = LogisticRegression()\n",
        "model_svm.fit(x_train,y_train)\n",
        "model_log_reg.fit(x_train,y_train)\n",
        "\n",
        "kfold = KFold(n_splits= 10)\n",
        "result_log_reg = cross_val_score(model_log_reg,x,y ,cv=kfold)\n",
        "\n",
        "result_svm = cross_val_score(model_svm,x,y ,cv=kfold)\n",
        "print('result logistic regression')\n",
        "print(result_log_reg.mean()*100)\n",
        "print('result svm')\n",
        "print(result_svm.mean()*100)\n",
        "\n",
        "\n"
      ]
    },
    {
      "cell_type": "markdown",
      "metadata": {
        "id": "imE71FKvkjLQ"
      },
      "source": [
        "performance matrics\n",
        "1 classification accuracy (classification)\n",
        "2 logerithmic loss (regression)\n",
        "3 confusion matrics (classification)\n"
      ]
    },
    {
      "cell_type": "code",
      "execution_count": null,
      "metadata": {
        "colab": {
          "base_uri": "https://localhost:8080/"
        },
        "id": "ppVsQPgxoJPG",
        "outputId": "fd29f702-5734-42d4-c351-40196f9cacde"
      },
      "outputs": [
        {
          "name": "stdout",
          "output_type": "stream",
          "text": [
            "[[112  11]\n",
            " [ 33  36]]\n"
          ]
        },
        {
          "name": "stderr",
          "output_type": "stream",
          "text": [
            "/usr/local/lib/python3.10/dist-packages/sklearn/linear_model/_logistic.py:458: ConvergenceWarning: lbfgs failed to converge (status=1):\n",
            "STOP: TOTAL NO. of ITERATIONS REACHED LIMIT.\n",
            "\n",
            "Increase the number of iterations (max_iter) or scale the data as shown in:\n",
            "    https://scikit-learn.org/stable/modules/preprocessing.html\n",
            "Please also refer to the documentation for alternative solver options:\n",
            "    https://scikit-learn.org/stable/modules/linear_model.html#logistic-regression\n",
            "  n_iter_i = _check_optimize_result(\n"
          ]
        }
      ],
      "source": [
        "from sklearn.linear_model import LogisticRegression\n",
        "from sklearn.svm import SVC\n",
        "from sklearn.model_selection import train_test_split\n",
        "from pandas import read_csv\n",
        "from sklearn.metrics import confusion_matrix\n",
        "\n",
        "\n",
        "data = read_csv('/content/diabetes.csv')\n",
        "array = data.values\n",
        "x = array[:,0:7]\n",
        "y = array[:,8]\n",
        "x_train,x_test,y_train,y_test = train_test_split(x,y,test_size=0.25)\n",
        "\n",
        "model_svm = SVC()\n",
        "model_log_reg = LogisticRegression()\n",
        "model_svm.fit(x_train,y_train)\n",
        "model_log_reg.fit(x_train,y_train)\n",
        "\n",
        "mc_svm,mc_log_reg =0,0\n",
        "\n",
        "y_pred_svm = model_svm.predict(x_test)\n",
        "y_pred_log_reg = model_log_reg.predict(x_test)\n",
        "\n",
        "matrics = confusion_matrix(y_test,y_pred_svm)\n",
        "print(matrics)\n"
      ]
    },
    {
      "cell_type": "code",
      "execution_count": null,
      "metadata": {
        "colab": {
          "base_uri": "https://localhost:8080/"
        },
        "id": "RVlzMprVD-c4",
        "outputId": "f1cddc2d-9334-4557-edcb-621cf029af76"
      },
      "outputs": [
        {
          "name": "stderr",
          "output_type": "stream",
          "text": [
            "/usr/local/lib/python3.10/dist-packages/sklearn/linear_model/_logistic.py:458: ConvergenceWarning: lbfgs failed to converge (status=1):\n",
            "STOP: TOTAL NO. of ITERATIONS REACHED LIMIT.\n",
            "\n",
            "Increase the number of iterations (max_iter) or scale the data as shown in:\n",
            "    https://scikit-learn.org/stable/modules/preprocessing.html\n",
            "Please also refer to the documentation for alternative solver options:\n",
            "    https://scikit-learn.org/stable/modules/linear_model.html#logistic-regression\n",
            "  n_iter_i = _check_optimize_result(\n",
            "/usr/local/lib/python3.10/dist-packages/sklearn/linear_model/_logistic.py:458: ConvergenceWarning: lbfgs failed to converge (status=1):\n",
            "STOP: TOTAL NO. of ITERATIONS REACHED LIMIT.\n",
            "\n",
            "Increase the number of iterations (max_iter) or scale the data as shown in:\n",
            "    https://scikit-learn.org/stable/modules/preprocessing.html\n",
            "Please also refer to the documentation for alternative solver options:\n",
            "    https://scikit-learn.org/stable/modules/linear_model.html#logistic-regression\n",
            "  n_iter_i = _check_optimize_result(\n",
            "/usr/local/lib/python3.10/dist-packages/sklearn/linear_model/_logistic.py:458: ConvergenceWarning: lbfgs failed to converge (status=1):\n",
            "STOP: TOTAL NO. of ITERATIONS REACHED LIMIT.\n",
            "\n",
            "Increase the number of iterations (max_iter) or scale the data as shown in:\n",
            "    https://scikit-learn.org/stable/modules/preprocessing.html\n",
            "Please also refer to the documentation for alternative solver options:\n",
            "    https://scikit-learn.org/stable/modules/linear_model.html#logistic-regression\n",
            "  n_iter_i = _check_optimize_result(\n",
            "/usr/local/lib/python3.10/dist-packages/sklearn/linear_model/_logistic.py:458: ConvergenceWarning: lbfgs failed to converge (status=1):\n",
            "STOP: TOTAL NO. of ITERATIONS REACHED LIMIT.\n",
            "\n",
            "Increase the number of iterations (max_iter) or scale the data as shown in:\n",
            "    https://scikit-learn.org/stable/modules/preprocessing.html\n",
            "Please also refer to the documentation for alternative solver options:\n",
            "    https://scikit-learn.org/stable/modules/linear_model.html#logistic-regression\n",
            "  n_iter_i = _check_optimize_result(\n"
          ]
        },
        {
          "name": "stdout",
          "output_type": "stream",
          "text": [
            "kmn score\n",
            "76.95146958304852\n"
          ]
        },
        {
          "name": "stderr",
          "output_type": "stream",
          "text": [
            "/usr/local/lib/python3.10/dist-packages/sklearn/linear_model/_logistic.py:458: ConvergenceWarning: lbfgs failed to converge (status=1):\n",
            "STOP: TOTAL NO. of ITERATIONS REACHED LIMIT.\n",
            "\n",
            "Increase the number of iterations (max_iter) or scale the data as shown in:\n",
            "    https://scikit-learn.org/stable/modules/preprocessing.html\n",
            "Please also refer to the documentation for alternative solver options:\n",
            "    https://scikit-learn.org/stable/modules/linear_model.html#logistic-regression\n",
            "  n_iter_i = _check_optimize_result(\n"
          ]
        }
      ],
      "source": [
        "from sklearn.model_selection import KFold,cross_val_score\n",
        "from sklearn.neighbors import KNeighborsClassifier\n",
        "from pandas import read_csv\n",
        "data = read_csv('/content/diabetes.csv')\n",
        "array = data.values\n",
        "x = array[:,0:7]\n",
        "y = array[:,8]\n",
        "model_kmn = KNeighborsClassifier(n_neighbors=10)\n",
        "kfold = KFold(n_splits=10)\n",
        "result_kmn = cross_val_score(model_log_reg,x,y,cv=kfold)\n",
        "print('kmn score')\n",
        "print(result_kmn.mean()*100)"
      ]
    },
    {
      "cell_type": "code",
      "execution_count": null,
      "metadata": {
        "colab": {
          "base_uri": "https://localhost:8080/"
        },
        "id": "Y2zF53yzKkg_",
        "outputId": "1d43a171-57d9-4abd-88d3-f872582dd1b7"
      },
      "outputs": [
        {
          "name": "stdout",
          "output_type": "stream",
          "text": [
            "score\n",
            "75.51777170198223\n"
          ]
        }
      ],
      "source": [
        "from sklearn.model_selection import KFold, cross_val_score\n",
        "from sklearn.naive_bayes  import GaussianNB\n",
        "from pandas import read_csv\n",
        "\n",
        "data = read_csv('/content/diabetes.csv')\n",
        "array = data.values\n",
        "X= array[:,0:8]\n",
        "Y = array[:,8]\n",
        "model = GaussianNB()\n",
        "kfold = KFold(n_splits=10)\n",
        "result = cross_val_score(model ,X,Y, cv=kfold)\n",
        "print('score')\n",
        "print(result.mean()*100)"
      ]
    },
    {
      "cell_type": "markdown",
      "metadata": {
        "id": "Ep2eJiNEPmvA"
      },
      "source": [
        "Linear Regression\n",
        "Ridge regression\n",
        "LASSO regression\n",
        "Elastic net\n",
        "KNN\n",
        "SVM Regression\n",
        "\n",
        "\n",
        "\n",
        "\n",
        "\n"
      ]
    },
    {
      "cell_type": "code",
      "execution_count": null,
      "metadata": {
        "colab": {
          "background_save": true,
          "base_uri": "https://localhost:8080/"
        },
        "id": "B5HdxExGP0dE",
        "outputId": "3c9c20e8-fdf9-49c6-f1ab-c420555ac82a"
      },
      "outputs": [
        {
          "name": "stderr",
          "output_type": "stream",
          "text": [
            "/usr/local/lib/python3.10/dist-packages/sklearn/linear_model/_logistic.py:458: ConvergenceWarning: lbfgs failed to converge (status=1):\n",
            "STOP: TOTAL NO. of ITERATIONS REACHED LIMIT.\n",
            "\n",
            "Increase the number of iterations (max_iter) or scale the data as shown in:\n",
            "    https://scikit-learn.org/stable/modules/preprocessing.html\n",
            "Please also refer to the documentation for alternative solver options:\n",
            "    https://scikit-learn.org/stable/modules/linear_model.html#logistic-regression\n",
            "  n_iter_i = _check_optimize_result(\n",
            "/usr/local/lib/python3.10/dist-packages/sklearn/linear_model/_logistic.py:458: ConvergenceWarning: lbfgs failed to converge (status=1):\n",
            "STOP: TOTAL NO. of ITERATIONS REACHED LIMIT.\n",
            "\n",
            "Increase the number of iterations (max_iter) or scale the data as shown in:\n",
            "    https://scikit-learn.org/stable/modules/preprocessing.html\n",
            "Please also refer to the documentation for alternative solver options:\n",
            "    https://scikit-learn.org/stable/modules/linear_model.html#logistic-regression\n",
            "  n_iter_i = _check_optimize_result(\n",
            "/usr/local/lib/python3.10/dist-packages/sklearn/linear_model/_logistic.py:458: ConvergenceWarning: lbfgs failed to converge (status=1):\n",
            "STOP: TOTAL NO. of ITERATIONS REACHED LIMIT.\n",
            "\n",
            "Increase the number of iterations (max_iter) or scale the data as shown in:\n",
            "    https://scikit-learn.org/stable/modules/preprocessing.html\n",
            "Please also refer to the documentation for alternative solver options:\n",
            "    https://scikit-learn.org/stable/modules/linear_model.html#logistic-regression\n",
            "  n_iter_i = _check_optimize_result(\n",
            "/usr/local/lib/python3.10/dist-packages/sklearn/linear_model/_logistic.py:458: ConvergenceWarning: lbfgs failed to converge (status=1):\n",
            "STOP: TOTAL NO. of ITERATIONS REACHED LIMIT.\n",
            "\n",
            "Increase the number of iterations (max_iter) or scale the data as shown in:\n",
            "    https://scikit-learn.org/stable/modules/preprocessing.html\n",
            "Please also refer to the documentation for alternative solver options:\n",
            "    https://scikit-learn.org/stable/modules/linear_model.html#logistic-regression\n",
            "  n_iter_i = _check_optimize_result(\n",
            "/usr/local/lib/python3.10/dist-packages/sklearn/linear_model/_logistic.py:458: ConvergenceWarning: lbfgs failed to converge (status=1):\n",
            "STOP: TOTAL NO. of ITERATIONS REACHED LIMIT.\n",
            "\n",
            "Increase the number of iterations (max_iter) or scale the data as shown in:\n",
            "    https://scikit-learn.org/stable/modules/preprocessing.html\n",
            "Please also refer to the documentation for alternative solver options:\n",
            "    https://scikit-learn.org/stable/modules/linear_model.html#logistic-regression\n",
            "  n_iter_i = _check_optimize_result(\n",
            "/usr/local/lib/python3.10/dist-packages/sklearn/linear_model/_logistic.py:458: ConvergenceWarning: lbfgs failed to converge (status=1):\n",
            "STOP: TOTAL NO. of ITERATIONS REACHED LIMIT.\n",
            "\n",
            "Increase the number of iterations (max_iter) or scale the data as shown in:\n",
            "    https://scikit-learn.org/stable/modules/preprocessing.html\n",
            "Please also refer to the documentation for alternative solver options:\n",
            "    https://scikit-learn.org/stable/modules/linear_model.html#logistic-regression\n",
            "  n_iter_i = _check_optimize_result(\n",
            "/usr/local/lib/python3.10/dist-packages/sklearn/linear_model/_logistic.py:458: ConvergenceWarning: lbfgs failed to converge (status=1):\n",
            "STOP: TOTAL NO. of ITERATIONS REACHED LIMIT.\n",
            "\n",
            "Increase the number of iterations (max_iter) or scale the data as shown in:\n",
            "    https://scikit-learn.org/stable/modules/preprocessing.html\n",
            "Please also refer to the documentation for alternative solver options:\n",
            "    https://scikit-learn.org/stable/modules/linear_model.html#logistic-regression\n",
            "  n_iter_i = _check_optimize_result(\n",
            "/usr/local/lib/python3.10/dist-packages/sklearn/linear_model/_logistic.py:458: ConvergenceWarning: lbfgs failed to converge (status=1):\n",
            "STOP: TOTAL NO. of ITERATIONS REACHED LIMIT.\n",
            "\n",
            "Increase the number of iterations (max_iter) or scale the data as shown in:\n",
            "    https://scikit-learn.org/stable/modules/preprocessing.html\n",
            "Please also refer to the documentation for alternative solver options:\n",
            "    https://scikit-learn.org/stable/modules/linear_model.html#logistic-regression\n",
            "  n_iter_i = _check_optimize_result(\n",
            "/usr/local/lib/python3.10/dist-packages/sklearn/linear_model/_logistic.py:458: ConvergenceWarning: lbfgs failed to converge (status=1):\n",
            "STOP: TOTAL NO. of ITERATIONS REACHED LIMIT.\n",
            "\n",
            "Increase the number of iterations (max_iter) or scale the data as shown in:\n",
            "    https://scikit-learn.org/stable/modules/preprocessing.html\n",
            "Please also refer to the documentation for alternative solver options:\n",
            "    https://scikit-learn.org/stable/modules/linear_model.html#logistic-regression\n",
            "  n_iter_i = _check_optimize_result(\n",
            "/usr/local/lib/python3.10/dist-packages/sklearn/linear_model/_logistic.py:458: ConvergenceWarning: lbfgs failed to converge (status=1):\n",
            "STOP: TOTAL NO. of ITERATIONS REACHED LIMIT.\n",
            "\n",
            "Increase the number of iterations (max_iter) or scale the data as shown in:\n",
            "    https://scikit-learn.org/stable/modules/preprocessing.html\n",
            "Please also refer to the documentation for alternative solver options:\n",
            "    https://scikit-learn.org/stable/modules/linear_model.html#logistic-regression\n",
            "  n_iter_i = _check_optimize_result(\n"
          ]
        }
      ],
      "source": [
        "from sklearn.model_selection import KFold, cross_val_score\n",
        "from sklearn.svm import SVC\n",
        "from sklearn.linear_model import LogisticRegression\n",
        "from sklearn.neighbors import KNeighborsClassifier\n",
        "from sklearn.naive_bayes import GaussianNB\n",
        "from pandas import read_csv\n",
        "\n",
        "data = read_csv('/content/sample_data/california_housing_train.csv')\n",
        "array = data.values\n",
        "X= array[:,0:8]\n",
        "Y = array[:,8]\n",
        "\n",
        "\n",
        "models = [('LOG_RRG',LogisticRegression()),('KNN',KNeighborsClassifier()),('Naive_bayes',GaussianNB()),('SVM',SVC())]\n",
        "kfold = KFold(n_splits=10)\n",
        "result = []\n",
        "\n",
        "\n",
        "for Name, model in models:\n",
        " cv_result = cross_val_score(model,X,Y, cv=kfold)\n",
        " result.append(cv_result.mean() * 100)\n",
        "\n",
        "i = 0\n",
        "\n",
        "for name , _ in models:\n",
        "  print(name)\n",
        "  print(result[i])\n",
        "  i = i + 1"
      ]
    },
    {
      "cell_type": "markdown",
      "metadata": {
        "id": "3IhYLpV6LWm9"
      },
      "source": [
        "ML Pipeline\n",
        "1.data preparation pipeline\n",
        "2.feature extraction pipeline\n"
      ]
    },
    {
      "cell_type": "code",
      "execution_count": null,
      "metadata": {
        "id": "QqQKb1zROc69"
      },
      "outputs": [],
      "source": [
        "from sklearn.model_selection import KFold, cross_val_score\n",
        "from sklearn.svm import SVC\n",
        "from sklearn.preprocessing import StandardScaler, Normalizer ,MinMaxScaler\n",
        "from pandas import read_csv\n",
        "from sklearn.pipeline import Pipeline\n",
        "\n",
        "data = read_csv('/content/diabetes.csv')\n",
        "array = data.values\n",
        "X= array[:,0:8]\n",
        "Y = array[:,8]\n",
        "\n",
        "pipeline = []\n",
        "pipeline.append('StandardScaler',StandardScaler())\n",
        "pipeline.append('Normalizer',Normalizer())\n",
        "pipeline.appened('MinMaxScaler',MinMaxScaler(feature_range(0,1)))\n",
        "pipeline.appened('SVC',SVC())\n",
        "\n",
        "models = Pipeline(pipeline)\n",
        "kfold = KFold(n_splits=10)\n",
        "result = cross_val_score(model,X,Y, cv=kfold)\n",
        "print(result.mean()*100)"
      ]
    }
  ],
  "metadata": {
    "colab": {
      "provenance": []
    },
    "kernelspec": {
      "display_name": "Python 3",
      "name": "python3"
    },
    "language_info": {
      "name": "python"
    }
  },
  "nbformat": 4,
  "nbformat_minor": 0
}